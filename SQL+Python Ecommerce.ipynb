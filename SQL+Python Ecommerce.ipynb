{
 "cells": [
  {
   "cell_type": "code",
   "execution_count": 19,
   "id": "c50096f6-723c-42e6-935c-24212488411b",
   "metadata": {},
   "outputs": [
    {
     "name": "stdout",
     "output_type": "stream",
     "text": [
      "Requirement already satisfied: pandas in c:\\users\\asus\\appdata\\local\\programs\\python\\python312\\lib\\site-packages (2.2.2)\n",
      "Requirement already satisfied: numpy>=1.26.0 in c:\\users\\asus\\appdata\\local\\programs\\python\\python312\\lib\\site-packages (from pandas) (1.26.4)\n",
      "Requirement already satisfied: python-dateutil>=2.8.2 in c:\\users\\asus\\appdata\\local\\programs\\python\\python312\\lib\\site-packages (from pandas) (2.9.0.post0)\n",
      "Requirement already satisfied: pytz>=2020.1 in c:\\users\\asus\\appdata\\local\\programs\\python\\python312\\lib\\site-packages (from pandas) (2024.1)\n",
      "Requirement already satisfied: tzdata>=2022.7 in c:\\users\\asus\\appdata\\local\\programs\\python\\python312\\lib\\site-packages (from pandas) (2024.1)\n",
      "Requirement already satisfied: six>=1.5 in c:\\users\\asus\\appdata\\local\\programs\\python\\python312\\lib\\site-packages (from python-dateutil>=2.8.2->pandas) (1.16.0)\n",
      "Note: you may need to restart the kernel to use updated packages.\n"
     ]
    },
    {
     "name": "stderr",
     "output_type": "stream",
     "text": [
      "\n",
      "[notice] A new release of pip is available: 24.0 -> 25.0\n",
      "[notice] To update, run: python.exe -m pip install --upgrade pip\n"
     ]
    }
   ],
   "source": [
    "pip install pandas"
   ]
  },
  {
   "cell_type": "code",
   "execution_count": 20,
   "id": "55301c66-8783-4ba1-bd78-a6c18531deef",
   "metadata": {},
   "outputs": [
    {
     "name": "stdout",
     "output_type": "stream",
     "text": [
      "Requirement already satisfied: mysql-connector-python in c:\\users\\asus\\appdata\\local\\programs\\python\\python312\\lib\\site-packages (9.2.0)\n",
      "Note: you may need to restart the kernel to use updated packages.\n"
     ]
    },
    {
     "name": "stderr",
     "output_type": "stream",
     "text": [
      "\n",
      "[notice] A new release of pip is available: 24.0 -> 25.0\n",
      "[notice] To update, run: python.exe -m pip install --upgrade pip\n"
     ]
    }
   ],
   "source": [
    "pip install mysql-connector-python"
   ]
  },
  {
   "cell_type": "code",
   "execution_count": 21,
   "id": "d36f5e6d-f117-4079-841f-865b8ed3fa05",
   "metadata": {},
   "outputs": [
    {
     "name": "stdout",
     "output_type": "stream",
     "text": [
      "Requirement already satisfied: matplotlib in c:\\users\\asus\\appdata\\local\\programs\\python\\python312\\lib\\site-packages (3.9.1)\n",
      "Requirement already satisfied: contourpy>=1.0.1 in c:\\users\\asus\\appdata\\local\\programs\\python\\python312\\lib\\site-packages (from matplotlib) (1.2.1)\n",
      "Requirement already satisfied: cycler>=0.10 in c:\\users\\asus\\appdata\\local\\programs\\python\\python312\\lib\\site-packages (from matplotlib) (0.12.1)\n",
      "Requirement already satisfied: fonttools>=4.22.0 in c:\\users\\asus\\appdata\\local\\programs\\python\\python312\\lib\\site-packages (from matplotlib) (4.53.1)\n",
      "Requirement already satisfied: kiwisolver>=1.3.1 in c:\\users\\asus\\appdata\\local\\programs\\python\\python312\\lib\\site-packages (from matplotlib) (1.4.5)\n",
      "Requirement already satisfied: numpy>=1.23 in c:\\users\\asus\\appdata\\local\\programs\\python\\python312\\lib\\site-packages (from matplotlib) (1.26.4)\n",
      "Requirement already satisfied: packaging>=20.0 in c:\\users\\asus\\appdata\\local\\programs\\python\\python312\\lib\\site-packages (from matplotlib) (24.0)\n",
      "Requirement already satisfied: pillow>=8 in c:\\users\\asus\\appdata\\local\\programs\\python\\python312\\lib\\site-packages (from matplotlib) (10.4.0)\n",
      "Requirement already satisfied: pyparsing>=2.3.1 in c:\\users\\asus\\appdata\\local\\programs\\python\\python312\\lib\\site-packages (from matplotlib) (3.1.2)\n",
      "Requirement already satisfied: python-dateutil>=2.7 in c:\\users\\asus\\appdata\\local\\programs\\python\\python312\\lib\\site-packages (from matplotlib) (2.9.0.post0)\n",
      "Requirement already satisfied: six>=1.5 in c:\\users\\asus\\appdata\\local\\programs\\python\\python312\\lib\\site-packages (from python-dateutil>=2.7->matplotlib) (1.16.0)\n",
      "Note: you may need to restart the kernel to use updated packages.\n"
     ]
    },
    {
     "name": "stderr",
     "output_type": "stream",
     "text": [
      "\n",
      "[notice] A new release of pip is available: 24.0 -> 25.0\n",
      "[notice] To update, run: python.exe -m pip install --upgrade pip\n"
     ]
    }
   ],
   "source": [
    "pip install matplotlib"
   ]
  },
  {
   "cell_type": "code",
   "execution_count": 22,
   "id": "971359c3-17f0-4999-b813-e93922eceda6",
   "metadata": {},
   "outputs": [
    {
     "name": "stdout",
     "output_type": "stream",
     "text": [
      "Requirement already satisfied: seaborn in c:\\users\\asus\\appdata\\local\\programs\\python\\python312\\lib\\site-packages (0.13.2)\n",
      "Requirement already satisfied: numpy!=1.24.0,>=1.20 in c:\\users\\asus\\appdata\\local\\programs\\python\\python312\\lib\\site-packages (from seaborn) (1.26.4)\n",
      "Requirement already satisfied: pandas>=1.2 in c:\\users\\asus\\appdata\\local\\programs\\python\\python312\\lib\\site-packages (from seaborn) (2.2.2)\n",
      "Requirement already satisfied: matplotlib!=3.6.1,>=3.4 in c:\\users\\asus\\appdata\\local\\programs\\python\\python312\\lib\\site-packages (from seaborn) (3.9.1)\n",
      "Requirement already satisfied: contourpy>=1.0.1 in c:\\users\\asus\\appdata\\local\\programs\\python\\python312\\lib\\site-packages (from matplotlib!=3.6.1,>=3.4->seaborn) (1.2.1)\n",
      "Requirement already satisfied: cycler>=0.10 in c:\\users\\asus\\appdata\\local\\programs\\python\\python312\\lib\\site-packages (from matplotlib!=3.6.1,>=3.4->seaborn) (0.12.1)\n",
      "Requirement already satisfied: fonttools>=4.22.0 in c:\\users\\asus\\appdata\\local\\programs\\python\\python312\\lib\\site-packages (from matplotlib!=3.6.1,>=3.4->seaborn) (4.53.1)\n",
      "Requirement already satisfied: kiwisolver>=1.3.1 in c:\\users\\asus\\appdata\\local\\programs\\python\\python312\\lib\\site-packages (from matplotlib!=3.6.1,>=3.4->seaborn) (1.4.5)\n",
      "Requirement already satisfied: packaging>=20.0 in c:\\users\\asus\\appdata\\local\\programs\\python\\python312\\lib\\site-packages (from matplotlib!=3.6.1,>=3.4->seaborn) (24.0)\n",
      "Requirement already satisfied: pillow>=8 in c:\\users\\asus\\appdata\\local\\programs\\python\\python312\\lib\\site-packages (from matplotlib!=3.6.1,>=3.4->seaborn) (10.4.0)\n",
      "Requirement already satisfied: pyparsing>=2.3.1 in c:\\users\\asus\\appdata\\local\\programs\\python\\python312\\lib\\site-packages (from matplotlib!=3.6.1,>=3.4->seaborn) (3.1.2)\n",
      "Requirement already satisfied: python-dateutil>=2.7 in c:\\users\\asus\\appdata\\local\\programs\\python\\python312\\lib\\site-packages (from matplotlib!=3.6.1,>=3.4->seaborn) (2.9.0.post0)\n",
      "Requirement already satisfied: pytz>=2020.1 in c:\\users\\asus\\appdata\\local\\programs\\python\\python312\\lib\\site-packages (from pandas>=1.2->seaborn) (2024.1)\n",
      "Requirement already satisfied: tzdata>=2022.7 in c:\\users\\asus\\appdata\\local\\programs\\python\\python312\\lib\\site-packages (from pandas>=1.2->seaborn) (2024.1)\n",
      "Requirement already satisfied: six>=1.5 in c:\\users\\asus\\appdata\\local\\programs\\python\\python312\\lib\\site-packages (from python-dateutil>=2.7->matplotlib!=3.6.1,>=3.4->seaborn) (1.16.0)\n",
      "Note: you may need to restart the kernel to use updated packages.\n"
     ]
    },
    {
     "name": "stderr",
     "output_type": "stream",
     "text": [
      "\n",
      "[notice] A new release of pip is available: 24.0 -> 25.0\n",
      "[notice] To update, run: python.exe -m pip install --upgrade pip\n"
     ]
    }
   ],
   "source": [
    "pip install seaborn"
   ]
  },
  {
   "cell_type": "code",
   "execution_count": 23,
   "id": "ff235f98-9563-4f5d-b327-e337da29aee3",
   "metadata": {},
   "outputs": [
    {
     "name": "stdout",
     "output_type": "stream",
     "text": [
      "Processing customers.csv\n",
      "NaN values before replacement:\n",
      "customer_id                 0\n",
      "customer_unique_id          0\n",
      "customer_zip_code_prefix    0\n",
      "customer_city               0\n",
      "customer_state              0\n",
      "dtype: int64\n",
      "\n"
     ]
    },
    {
     "ename": "NameError",
     "evalue": "name 'cursor' is not defined",
     "output_type": "error",
     "traceback": [
      "\u001b[1;31m---------------------------------------------------------------------------\u001b[0m",
      "\u001b[1;31mNameError\u001b[0m                                 Traceback (most recent call last)",
      "Cell \u001b[1;32mIn[23], line 60\u001b[0m\n\u001b[0;32m     58\u001b[0m columns \u001b[38;5;241m=\u001b[39m \u001b[38;5;124m'\u001b[39m\u001b[38;5;124m, \u001b[39m\u001b[38;5;124m'\u001b[39m\u001b[38;5;241m.\u001b[39mjoin([\u001b[38;5;124mf\u001b[39m\u001b[38;5;124m'\u001b[39m\u001b[38;5;124m`\u001b[39m\u001b[38;5;132;01m{\u001b[39;00mcol\u001b[38;5;132;01m}\u001b[39;00m\u001b[38;5;124m` \u001b[39m\u001b[38;5;132;01m{\u001b[39;00mget_sql_type(df[col]\u001b[38;5;241m.\u001b[39mdtype)\u001b[38;5;132;01m}\u001b[39;00m\u001b[38;5;124m'\u001b[39m \u001b[38;5;28;01mfor\u001b[39;00m col \u001b[38;5;129;01min\u001b[39;00m df\u001b[38;5;241m.\u001b[39mcolumns])\n\u001b[0;32m     59\u001b[0m create_table_query \u001b[38;5;241m=\u001b[39m \u001b[38;5;124mf\u001b[39m\u001b[38;5;124m'\u001b[39m\u001b[38;5;124mCREATE TABLE IF NOT EXISTS `\u001b[39m\u001b[38;5;132;01m{\u001b[39;00mtable_name\u001b[38;5;132;01m}\u001b[39;00m\u001b[38;5;124m` (\u001b[39m\u001b[38;5;132;01m{\u001b[39;00mcolumns\u001b[38;5;132;01m}\u001b[39;00m\u001b[38;5;124m)\u001b[39m\u001b[38;5;124m'\u001b[39m\n\u001b[1;32m---> 60\u001b[0m \u001b[43mcursor\u001b[49m\u001b[38;5;241m.\u001b[39mexecute(create_table_query)\n\u001b[0;32m     62\u001b[0m \u001b[38;5;66;03m# Insert DataFrame data into the MySQL table\u001b[39;00m\n\u001b[0;32m     63\u001b[0m \u001b[38;5;28;01mfor\u001b[39;00m _, row \u001b[38;5;129;01min\u001b[39;00m df\u001b[38;5;241m.\u001b[39miterrows():\n\u001b[0;32m     64\u001b[0m     \u001b[38;5;66;03m# Convert row to tuple and handle NaN/None explicitly\u001b[39;00m\n",
      "\u001b[1;31mNameError\u001b[0m: name 'cursor' is not defined"
     ]
    }
   ],
   "source": [
    "import pandas as pd\n",
    "import mysql.connector\n",
    "import os\n",
    "\n",
    "# List of CSV files and their corresponding table names\n",
    "csv_files = [\n",
    "    ('customers.csv', 'customers'),\n",
    "    ('orders.csv', 'orders'),\n",
    "    ('sellers.csv', 'sellers'),\n",
    "    ('products.csv', 'products'),\n",
    "    ('geolocation.csv', 'geolocation'),\n",
    "    ('payments.csv', 'payments'),\n",
    "    ('order_items.CSV', 'order_items')# Added payments.csv for specific handling\n",
    "]\n",
    "\n",
    "# Connect to the MySQL database\n",
    "conn = mysql.connector.connect(\n",
    "    host='localhost',\n",
    "    user='root',\n",
    "    password='258025',\n",
    "    database='ecommerce'\n",
    ")\n",
    "cur = conn.cursor()\n",
    "\n",
    "\n",
    "# Folder containing the CSV files\n",
    "folder_path = 'C:/Users/ASUS/Music/E commerce project , WS cube'\n",
    "\n",
    "def get_sql_type(dtype):\n",
    "    if pd.api.types.is_integer_dtype(dtype):\n",
    "        return 'INT'\n",
    "    elif pd.api.types.is_float_dtype(dtype):\n",
    "        return 'FLOAT'\n",
    "    elif pd.api.types.is_bool_dtype(dtype):\n",
    "        return 'BOOLEAN'\n",
    "    elif pd.api.types.is_datetime64_any_dtype(dtype):\n",
    "        return 'DATETIME'\n",
    "    else:\n",
    "        return 'TEXT'\n",
    "\n",
    "for csv_file, table_name in csv_files:\n",
    "    file_path = os.path.join(folder_path, csv_file)\n",
    "    \n",
    "    # Read the CSV file into a pandas DataFrame\n",
    "    df = pd.read_csv(file_path)\n",
    "    \n",
    "    # Replace NaN with None to handle SQL NULL\n",
    "    df = df.where(pd.notnull(df), None)\n",
    "    \n",
    "    # Debugging: Check for NaN values\n",
    "    print(f\"Processing {csv_file}\")\n",
    "    print(f\"NaN values before replacement:\\n{df.isnull().sum()}\\n\")\n",
    "\n",
    "    # Clean column names\n",
    "    df.columns = [col.replace(' ', '_').replace('-', '_').replace('.', '_') for col in df.columns]\n",
    "\n",
    "    # Generate the CREATE TABLE statement with appropriate data types\n",
    "    columns = ', '.join([f'`{col}` {get_sql_type(df[col].dtype)}' for col in df.columns])\n",
    "    create_table_query = f'CREATE TABLE IF NOT EXISTS `{table_name}` ({columns})'\n",
    "    cursor.execute(create_table_query)\n",
    "\n",
    "    # Insert DataFrame data into the MySQL table\n",
    "    for _, row in df.iterrows():\n",
    "        # Convert row to tuple and handle NaN/None explicitly\n",
    "        values = tuple(None if pd.isna(x) else x for x in row)\n",
    "        sql = f\"INSERT INTO `{table_name}` ({', '.join(['`' + col + '`' for col in df.columns])}) VALUES ({', '.join(['%s'] * len(row))})\"\n",
    "        cursor.execute(sql, values)\n",
    "\n",
    "    # Commit the transaction for the current CSV file\n",
    "    conn.commit()\n",
    "\n",
    "# Close the connection\n",
    "conn.close()"
   ]
  },
  {
   "cell_type": "code",
   "execution_count": 24,
   "id": "8de69105-ee5c-4e50-ae28-26abc782e45d",
   "metadata": {},
   "outputs": [],
   "source": [
    "import matplotlib.pyplot as plt\n",
    "import pandas as pd\n",
    "import seaborn as sns\n",
    "import mysql.connector \n",
    "\n",
    "db = mysql.connector.connect(host = \"localhost\",\n",
    "                            username = \"root\",\n",
    "                            password = \"258025\",\n",
    "                            database = \"ecommerce\")\n",
    "\n",
    "cur = db.cursor()\n"
   ]
  },
  {
   "cell_type": "code",
   "execution_count": null,
   "id": "f4e7987a-4e58-488b-868f-86760a658a8b",
   "metadata": {},
   "outputs": [],
   "source": [
    "#1. List all unique cities where customers are located.\n",
    "query = \"\"\"select distinct(customer_city) from customers\"\"\"\n",
    "cur.execute ( query )\n",
    "data = cur.fetchall()\n",
    "data"
   ]
  },
  {
   "cell_type": "code",
   "execution_count": null,
   "id": "a1886b95-75a6-4b78-9bbf-1d3b3e9ed045",
   "metadata": {},
   "outputs": [],
   "source": [
    "#2 Count the number of orders placed in 2017.\n",
    "q = \"\"\"select count(order_id)from orders where order_purchase_timestamp = 2017\"\"\"\n",
    "cur.execute(q)\n",
    "data = cur.fetchall()\n",
    "\"Total orders placed in 2017 are \", data[0][0]\n",
    "\n"
   ]
  },
  {
   "cell_type": "markdown",
   "id": "774d2c16-63d0-4249-9bfc-a4c27bc1bd0a",
   "metadata": {},
   "source": [
    "#3 Find the total sales per category."
   ]
  },
  {
   "cell_type": "code",
   "execution_count": null,
   "id": "fd8db89f-17a9-4a44-ab26-a7b157649029",
   "metadata": {},
   "outputs": [],
   "source": [
    "q = \"\"\" select upper(p.product_category), round(sum(py.payment_value),2) as Total_sale\n",
    "from products as p\n",
    "join order_items\n",
    "on p.product_id = order_items.product_id\n",
    "join payments as py\n",
    "on order_items.order_id = py.order_id\n",
    "group by product_category\n",
    "order by Total_sale desc;\n",
    " \"\"\"\n",
    "cur.execute(q)\n",
    "data = cur.fetchall()\n",
    "df= pd.DataFrame(data, columns = [\"Category\",\"Sale\"]) \n",
    "df"
   ]
  },
  {
   "cell_type": "markdown",
   "id": "78e18cb6-d8d0-4149-8c52-dc609cc5cd80",
   "metadata": {},
   "source": [
    "#3 Calculate the percentage of orders that were paid in installments"
   ]
  },
  {
   "cell_type": "code",
   "execution_count": null,
   "id": "9cae8860-b40a-4ee0-a9ca-47c90275b765",
   "metadata": {},
   "outputs": [],
   "source": [
    "q = \"\"\" select sum((case when payment_installments >=1 then 1 else 0 end)) / count(*) *100 from payments\"\"\"\n",
    "cur.execute(q)\n",
    "data = cur.fetchall()\n",
    "'Total percentage of orders that were paid in installments is ', data"
   ]
  },
  {
   "cell_type": "markdown",
   "id": "35c6ced4-f774-447c-80b8-4c3f46a52145",
   "metadata": {},
   "source": [
    "#4 Count the number of customers from each state. "
   ]
  },
  {
   "cell_type": "code",
   "execution_count": null,
   "id": "b87a7356-3dd7-4018-b656-d836533d0738",
   "metadata": {},
   "outputs": [],
   "source": [
    "q = \"\"\"select count(customer_id) as Total_customer, customer_state\n",
    "from customers\n",
    "group by customer_state\n",
    "order by Total_customer desc\"\"\"\n",
    "\n",
    "cur.execute(q)\n",
    "data = cur.fetchall()\n",
    "df = pd.DataFrame(data, columns = [\"Total_customer\" , \"State\"])\n",
    "plt.bar(df[\"State\"], df[\"Total_customer\"])\n",
    "plt.xticks(rotation = 90)\n",
    "plt.show()"
   ]
  },
  {
   "cell_type": "markdown",
   "id": "9ab7c04a-2a38-4d26-a3f8-2e1525eead94",
   "metadata": {},
   "source": [
    "Intermediate Queries-\n",
    "1. Calculate the number of orders per month in 2018."
   ]
  },
  {
   "cell_type": "code",
   "execution_count": null,
   "id": "bcbe2aea-9a3c-449c-9f44-415ed5a937d8",
   "metadata": {},
   "outputs": [],
   "source": [
    "q = \"\"\"select \n",
    "monthname(order_purchase_timestamp) as month , count(order_id) as T_order\n",
    "from orders\n",
    "where order_purchase_timestamp = 2018\n",
    "group by month\n",
    "order by month desc \"\"\"\n",
    "cur.execute(q)\n",
    "data = cur.fetchall()\n",
    "df = pd.DataFrame(data, columns = [\"month\", \"T_order\"])\n",
    "df"
   ]
  },
  {
   "cell_type": "markdown",
   "id": "e2e562fc-53dc-4ef9-9592-91b40ceb9d59",
   "metadata": {},
   "source": [
    "#2Find the average number of products per order, grouped by customer city."
   ]
  },
  {
   "cell_type": "code",
   "execution_count": null,
   "id": "06cc4b8f-efa9-4355-803a-70be1089ecf6",
   "metadata": {},
   "outputs": [],
   "source": [
    "cur = cursor   "
   ]
  },
  {
   "cell_type": "code",
   "execution_count": null,
   "id": "1373a095-b924-4567-a247-713bb6b4783a",
   "metadata": {},
   "outputs": [],
   "source": [
    "q = \"\"\"with count_per_order as (\n",
    "select orders.order_id, orders.customer_id ,count(order_items.order_id) as oc\n",
    "from orders join order_items \n",
    "on orders.order_id = order_items.order_id\n",
    "group by orders.order_id, orders.customer_id\n",
    ")\n",
    "select customers.customer_city, round(avg(oc),2) as Avg_order\n",
    "from customers join count_per_order\n",
    "on customers.customer_id = count_per_order.customer_id\n",
    "group by customers.customer_city\n",
    "order by  Avg_order desc\n",
    "limit 10; \"\"\"\n",
    "cur.execute(q)\n",
    "data = cur.fetchall()\n",
    "df = pd.DataFrame(data, columns = [\"City\", \"Avg_order\"])\n",
    "df "
   ]
  },
  {
   "cell_type": "markdown",
   "id": "05d80971-6604-4015-ac36-4e1ff3f11068",
   "metadata": {},
   "source": [
    "3. Calculate the percentage of total revenue contributed by each product category."
   ]
  },
  {
   "cell_type": "code",
   "execution_count": null,
   "id": "ad0445d5-b126-4437-970a-14befb1fe70a",
   "metadata": {},
   "outputs": [],
   "source": [
    "q = \"\"\" select upper(p.product_category),\n",
    " round((sum(py.payment_value)/(select sum(payment_value) from payments))*100,2) as Total_sale\n",
    "from products as p\n",
    "join order_items\n",
    "on p.product_id = order_items.product_id\n",
    "join payments as py\n",
    "on order_items.order_id = py.order_id\n",
    "group by product_category\n",
    "order by Total_sale desc\n",
    "limit 10; \"\"\"\n",
    "cur.execute(q)\n",
    "data = cur.fetchall()\n",
    "df = pd.DataFrame(data, columns = [\"Revenue\", \"Cateogory(in %)\"])\n",
    "df "
   ]
  },
  {
   "cell_type": "markdown",
   "id": "656b642d-a1ad-45af-8e13-ad07d2436cf7",
   "metadata": {},
   "source": [
    "4. Identify the correlation between product price and the number of times a product has been purchased."
   ]
  },
  {
   "cell_type": "code",
   "execution_count": null,
   "id": "c820a4a9-fffd-4f53-975f-b1b46c0031e4",
   "metadata": {},
   "outputs": [],
   "source": [
    "q = \"\"\" select products.product_category,\n",
    "count(order_items.product_id),\n",
    "round(avg(order_items.price),2)\n",
    "from products join order_items\n",
    "on products.product_id = order_items.product_id\n",
    "group by products.product_category; \"\"\"\n",
    "cur.execute(q)\n",
    "data = cur.fetchall()\n",
    "df = pd.DataFrame(data, columns = [\"product\", \"Purchased\", \"Avg_price\"])\n",
    "a = df[\"Purchased\"]\n",
    "b = df[\"Avg_price\"]\n",
    "np.corrcoef([a,b])\n"
   ]
  },
  {
   "cell_type": "markdown",
   "id": "128f02e9-ac20-4670-8101-2a11019b49a5",
   "metadata": {},
   "source": [
    "5. Calculate the total revenue generated by each seller, and rank them by revenue."
   ]
  },
  {
   "cell_type": "code",
   "execution_count": null,
   "id": "f285b8b4-53a9-4124-baf4-e90647b709aa",
   "metadata": {},
   "outputs": [],
   "source": [
    "q = \"\"\"  with revenue as (select sum(p.payment_value)as total_revenue, s.seller_id from payments as p\n",
    "join order_items on p.order_id = order_items.order_id join sellers as s\n",
    "on order_items.seller_id = s.seller_id\n",
    "group by s.seller_id)\n",
    "\n",
    "select seller_id,total_revenue,\n",
    "rank()over(order by total_revenue DESC ) as rank_by_revenue\n",
    "from revenue\n",
    "limit 10;\n",
    "\n",
    "  \"\"\"\n",
    "cur.execute(q)\n",
    "data = cur.fetchall()\n",
    "df = pd.DataFrame(data, columns = [\"Seller_Id\", \"Total_Revenue\",\"Ranks\"])\n",
    "df "
   ]
  },
  {
   "cell_type": "code",
   "execution_count": null,
   "id": "98369fd1-192d-4ae6-9b8c-332b18096b11",
   "metadata": {},
   "outputs": [],
   "source": [
    "cur = cursor"
   ]
  },
  {
   "cell_type": "markdown",
   "id": "e1198f26-dfec-47a2-b220-7145802e3fc9",
   "metadata": {},
   "source": [
    "# Advance query\n",
    "1. Calculate the moving average of order values for each customer over their order history."
   ]
  },
  {
   "cell_type": "code",
   "execution_count": null,
   "id": "e868020b-d758-4733-9335-8cb4c5e90777",
   "metadata": {},
   "outputs": [],
   "source": [
    "q = \"\"\"  SELECT customer_id, \n",
    "       order_purchase_timestamp,\n",
    "       AVG(payment) OVER (\n",
    "           PARTITION BY customer_id \n",
    "           ORDER BY order_purchase_timestamp \n",
    "           ROWS BETWEEN 2 PRECEDING AND CURRENT ROW\n",
    "       ) AS mov_avg\n",
    "FROM (\n",
    "    SELECT o.customer_id, \n",
    "           o.order_purchase_timestamp, \n",
    "           p.payment_value AS payment \n",
    "    FROM payments p \n",
    "    JOIN orders o ON p.order_id = o.order_id\n",
    ") sub;\n",
    "\n",
    "  \"\"\"\n",
    "cur.execute(q)\n",
    "data = cur.fetchall()\n",
    "df = pd.DataFrame(data, columns = [\"Seller_Id\", \"Total_Revenue\",\"Ranks\"])\n",
    "df "
   ]
  },
  {
   "cell_type": "code",
   "execution_count": null,
   "id": "8892954a-b761-4d7c-9488-f56d0c472dff",
   "metadata": {},
   "outputs": [],
   "source": [
    "cur = conn.cursor()\n"
   ]
  },
  {
   "cell_type": "markdown",
   "id": "54497c94-12a6-4109-94d9-08b1e2ad0760",
   "metadata": {},
   "source": [
    "2. Calculate the cumulative sales per month for each year."
   ]
  },
  {
   "cell_type": "code",
   "execution_count": null,
   "id": "94c035f1-2989-4694-a512-8bfa99000b86",
   "metadata": {},
   "outputs": [],
   "source": [
    "q = \"\"\"  select years , months, payment, sum(payment)\n",
    "over (order by years, months ) cummulative_sales from \n",
    "(select year(orders.order_purchase_timestamp) as years,\n",
    "month(orders.order_purchase_timestamp) as months,\n",
    "round(sum(payments.payment_value),2) as payment from orders join payments on \n",
    "orders.order_id = payments.order_id\n",
    "group by years , months \n",
    "order by years , months \n",
    ") as a;\n",
    "  \"\"\"\n",
    "cur.execute(q)\n",
    "data = cur.fetchall()\n",
    "df = pd.DataFrame(data, columns = [\"Years\" , \"Months\",\"Payment\",\"Cummulative Payment  \"])\n",
    "df "
   ]
  },
  {
   "cell_type": "markdown",
   "id": "062ee2f6-d8bb-4bfa-9eee-815a7b552582",
   "metadata": {},
   "source": [
    "3. Calculate the year-over-year growth rate of total sales."
   ]
  },
  {
   "cell_type": "code",
   "execution_count": null,
   "id": "074768bd-fd60-43ad-b49f-9b9d860917ad",
   "metadata": {},
   "outputs": [],
   "source": [
    "q = \"\"\"  with a as (select year(orders.order_purchase_timestamp) as years, round(sum(payments.payment_value),2) as Payment \n",
    "from orders join payments on\n",
    "orders.order_id = payments.order_id\n",
    "group by years\n",
    "order by years)\n",
    "\n",
    "SELECT years,Payment, LAG(Payment) OVER (ORDER BY years) AS previous_year_sales,\n",
    "    ROUND(((Payment - LAG(Payment) OVER (ORDER BY years)) / \n",
    "            LAG(Payment) OVER (ORDER BY years)) * 100, 2) AS growth_percentage\n",
    "            FROM a\n",
    "ORDER BY years;\n",
    " ;\n",
    "  \"\"\"\n",
    "cur.execute(q)\n",
    "data = cur.fetchall()\n",
    "df = pd.DataFrame(data, columns = [\"Years\" ,\"payment\",\"Previous Year sale\",\"growth rate\"])\n",
    "df "
   ]
  },
  {
   "cell_type": "markdown",
   "id": "7162382a-930d-499f-b60a-ec86fb67ebfd",
   "metadata": {},
   "source": [
    "4. Calculate the retention rate of customers, defined as the percentage of customers who make another purchase within 6 months of their first purchase."
   ]
  },
  {
   "cell_type": "code",
   "execution_count": null,
   "id": "612d0d68-98e7-46e1-a7a3-1c6ba73ed0f7",
   "metadata": {},
   "outputs": [],
   "source": [
    "q = \"\"\"   With a as (select customers.customer_id , date(min(orders.order_purchase_timestamp)) as First_order\n",
    "from customers join orders on \n",
    "customers.customer_id = orders.customer_id\n",
    "group by customer_id)\n",
    "\n",
    "select a.customer_id, count(distinct orders.order_purchase_timestamp) from a\n",
    "join orders on a.customer_id = orders.customer_id \n",
    "and orders.order_purchase_timestamp > first_order and\n",
    "orders.order_purchase_timestamp < date_add(first_order, interval 6 month)\n",
    "group by a.customer_id;\n",
    "  \"\"\"\n",
    "cur.execute(q)\n",
    "data = cur.fetchall()\n",
    "df = pd.DataFrame(data, columns = [\"Customer_id\",\"Repeated customer \"]) #unfortunately no repeated customer for 6 Months \n",
    "df "
   ]
  },
  {
   "cell_type": "markdown",
   "id": "64780628-70d5-4ef2-b17c-e7327e0fb428",
   "metadata": {},
   "source": [
    "#5 Identify the top 3 customers who spent the most money in each year."
   ]
  },
  {
   "cell_type": "code",
   "execution_count": null,
   "id": "9b64c738-1459-4df7-ae4e-7f93abcc8739",
   "metadata": {},
   "outputs": [],
   "source": [
    "q = \"\"\"    SELECT years, customer_id, payment, d_rank \n",
    "FROM (\n",
    "    SELECT \n",
    "        YEAR(o.order_purchase_timestamp) AS years,\n",
    "        o.customer_id, \n",
    "        SUM(p.payment_value) AS payment,\n",
    "        DENSE_RANK() OVER (\n",
    "            PARTITION BY YEAR(o.order_purchase_timestamp) \n",
    "            ORDER BY SUM(p.payment_value) DESC\n",
    "        ) AS d_rank\n",
    "    FROM orders o\n",
    "    JOIN payments p ON p.order_id = o.order_id\n",
    "    GROUP BY YEAR(o.order_purchase_timestamp), o.customer_id\n",
    ") AS a\n",
    "WHERE d_rank <= 3;\n",
    "  \"\"\"\n",
    "cur.execute(q)\n",
    "data = cur.fetchall()\n",
    "df = pd.DataFrame(data, columns = [\"Year\",\"Customer id \", \"Payments\", \"Rank\"])  \n",
    "df "
   ]
  },
  {
   "cell_type": "code",
   "execution_count": null,
   "id": "62076465-aa4c-415c-9bb8-ba4b4a48c536",
   "metadata": {},
   "outputs": [],
   "source": []
  }
 ],
 "metadata": {
  "kernelspec": {
   "display_name": "Python 3 (ipykernel)",
   "language": "python",
   "name": "python3"
  },
  "language_info": {
   "codemirror_mode": {
    "name": "ipython",
    "version": 3
   },
   "file_extension": ".py",
   "mimetype": "text/x-python",
   "name": "python",
   "nbconvert_exporter": "python",
   "pygments_lexer": "ipython3",
   "version": "3.12.2"
  }
 },
 "nbformat": 4,
 "nbformat_minor": 5
}
